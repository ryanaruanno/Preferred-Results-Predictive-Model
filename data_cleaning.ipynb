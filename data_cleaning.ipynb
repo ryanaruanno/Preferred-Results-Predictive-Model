{
 "cells": [
  {
   "cell_type": "markdown",
   "id": "397da2fd-54ab-46d2-b4b5-a0ec677f7192",
   "metadata": {
    "tags": []
   },
   "source": [
    "# Preferred Results Classification - Data Cleaning"
   ]
  },
  {
   "cell_type": "markdown",
   "id": "a6e878f2-8c8e-4655-b025-e014dab4ea30",
   "metadata": {},
   "source": [
    "### Imports"
   ]
  },
  {
   "cell_type": "code",
   "execution_count": 1,
   "id": "f9af2173-1eba-4a35-b9b2-69ae16ba9eb4",
   "metadata": {},
   "outputs": [],
   "source": [
    "import pandas as pd\n",
    "import numpy as np"
   ]
  },
  {
   "cell_type": "markdown",
   "id": "353ad5fc-f002-43c4-9c0a-ddac4de14436",
   "metadata": {},
   "source": [
    "### Read in Statcast Data"
   ]
  },
  {
   "cell_type": "code",
   "execution_count": 2,
   "id": "a7074f41-7a69-447d-adbd-56faf2ae0072",
   "metadata": {},
   "outputs": [],
   "source": [
    "df = pd.read_csv(\"all_raw_uncleaned_pitches.csv\")\n",
    "# df"
   ]
  },
  {
   "cell_type": "markdown",
   "id": "4299e296-fd3d-4438-a81b-d062ea556509",
   "metadata": {},
   "source": [
    "### Drop All of the Unnecessary Columns"
   ]
  },
  {
   "cell_type": "code",
   "execution_count": 3,
   "id": "ed4614c8-7548-41ce-84cb-547d9e4226b7",
   "metadata": {},
   "outputs": [],
   "source": [
    "inputs  = [\"player_name\", \"pitch_type\", \"p_throws\", \"release_pos_x\", \"release_pos_z\", \"release_extension\", \"release_speed\", \"effective_speed\", \"release_spin_rate\", \"spin_axis\", \"pfx_x\", \"pfx_z\", \"plate_x\", \"plate_z\", \"batter\"]\n",
    "outputs = [\"launch_speed\", \"description\"]"
   ]
  },
  {
   "cell_type": "code",
   "execution_count": 4,
   "id": "c279e878-cd9f-432e-90af-33909bc3b287",
   "metadata": {},
   "outputs": [],
   "source": [
    "df = df[inputs + outputs]\n",
    "# df"
   ]
  },
  {
   "cell_type": "markdown",
   "id": "91a20c8d-86ab-4f2d-998d-2593ad2422a7",
   "metadata": {},
   "source": [
    "### Drop All of the NaN Variables"
   ]
  },
  {
   "cell_type": "code",
   "execution_count": 5,
   "id": "071b86f9-b125-4bd7-9285-5035497f5655",
   "metadata": {},
   "outputs": [],
   "source": [
    "df.drop_duplicates()\n",
    "df = df.dropna(subset=inputs)\n",
    "df.drop(df[(df[\"description\"] == \"hit_into_play\") & (pd.isnull(df[\"launch_speed\"]))].index, inplace = True)\n",
    "df.drop(df[(pd.isnull(df[\"description\"])) & (df[\"launch_speed\"] >= 0.0)].index, inplace = True)\n",
    "df.reset_index(inplace = True, drop = True)\n",
    "# df"
   ]
  },
  {
   "cell_type": "markdown",
   "id": "e8764cf1-c27b-44c9-a3e1-db40548e710f",
   "metadata": {},
   "source": [
    "### Feature Engineering"
   ]
  },
  {
   "cell_type": "markdown",
   "id": "3e51560c-9a71-4dfd-b984-82e6ccfd4ab2",
   "metadata": {},
   "source": [
    "##### Adding Pitch Totals"
   ]
  },
  {
   "cell_type": "code",
   "execution_count": 6,
   "id": "0cddd12a-670b-4924-9e5f-4d67bf3c4b89",
   "metadata": {},
   "outputs": [],
   "source": [
    "df.loc[df.index, \"total_pitches\"] = df.groupby(\"player_name\")[\"player_name\"].transform(\"count\")\n",
    "df.loc[df.index, \"pitch_type_total\"] = df.groupby([\"player_name\", \"pitch_type\"])[\"pitch_type\"].transform(\"count\")\n",
    "df.loc[df.index, \"pitch_type_percentage\"] = df[\"pitch_type_total\"] / df[\"total_pitches\"]\n",
    "df.loc[df.index, \"primary_pitch_percentage\"] = df.groupby([\"player_name\", \"pitch_type\"])[\"pitch_type_percentage\"].transform(\"max\")\n",
    "df.loc[df.index, \"primary_pitch_percentage\"] = df.groupby(\"player_name\")[\"primary_pitch_percentage\"].transform(\"max\")\n",
    "# df"
   ]
  },
  {
   "cell_type": "markdown",
   "id": "88bb8390-01ff-4042-9112-28cb12a09d19",
   "metadata": {},
   "source": [
    "##### Adding Batter Metrics"
   ]
  },
  {
   "cell_type": "code",
   "execution_count": 7,
   "id": "835734dc-3b35-4445-a6ef-03d3d3bb8271",
   "metadata": {},
   "outputs": [],
   "source": [
    "batter_df = pd.read_csv(\"stats (2).csv\")\n",
    "df = df.merge(batter_df, how = \"left\", on = \"batter\")\n",
    "# df"
   ]
  },
  {
   "cell_type": "markdown",
   "id": "2143f842-cef9-4305-976b-beb7f4ec0db0",
   "metadata": {
    "tags": []
   },
   "source": [
    "##### Adds Vertical and Horizontal Approach Angle\n",
    "\n",
    "- The equation for VAA is: $$ \\arctan(\\frac{Release Position Height - Plate Height}{60.5 - Release Extension}) $$\n",
    "- The equation for HAA is: $$ \\arctan(\\frac{Release Position (X-axis) - Plate X-axis location}{60.5 - Release Extension}) $$"
   ]
  },
  {
   "cell_type": "code",
   "execution_count": 8,
   "id": "45ee3b2c-dc7e-45e3-ba1f-3d870e49757d",
   "metadata": {
    "scrolled": true
   },
   "outputs": [],
   "source": [
    "df.loc[df.index, \"vertical_approach_angle\"] = np.arctan((df.loc[df.index, \"release_pos_z\"] - df.loc[df.index, \"plate_z\"]) / (60.5 - df.loc[df.index, \"release_extension\"]))\n",
    "df.loc[df.index, \"horizontal_approach_angle\"] = np.arctan((df.loc[df.index, \"release_pos_x\"] - df.loc[df.index, \"plate_x\"]) / (60.5 - df.loc[df.index, \"release_extension\"]))\n",
    "# df"
   ]
  },
  {
   "cell_type": "markdown",
   "id": "3be8908c-ed5d-44da-a412-6bc71074904b",
   "metadata": {},
   "source": [
    "##### Adds the Release Speed, Spin Axis, and Horizontal & Vertical Movement Differences Input Variables\n",
    "- These variables track the difference in pitch speed, spin axis, and horizontal & vertical movement from the pitcher's current pitch to the pitcher's most thrown pitch."
   ]
  },
  {
   "cell_type": "code",
   "execution_count": 9,
   "id": "8294928c-9f98-493d-8e6c-4e605b52b3bc",
   "metadata": {},
   "outputs": [],
   "source": [
    "differences = [\"release_speed\", \"spin_axis\", \"pfx_x\", \"pfx_z\"]\n",
    "for difference in differences:\n",
    "    df[\"primary_{}\".format(difference)] = df.groupby([\"player_name\", \"pitch_type\"])[\"{}\".format(difference)].transform(\"mean\")\n",
    "    df.loc[~(df[\"pitch_type_percentage\"] == df[\"primary_pitch_percentage\"]), \"primary_{}\".format(difference)] = 0\n",
    "    df[\"primary_{}\".format(difference)] = df.groupby(\"player_name\")[\"primary_{}\".format(difference)].transform(\"max\")\n",
    "    df[\"{}_difference\".format(difference)] = df[\"primary_{}\".format(difference)] - df[\"{}\".format(difference)]\n",
    "    df.loc[df[\"pitch_type_percentage\"] == df[\"primary_pitch_percentage\"], \"{}_difference\".format(difference)] = 0\n",
    "    df = df.drop(\"primary_{}\".format(difference), axis=1)\n",
    "# df"
   ]
  },
  {
   "cell_type": "markdown",
   "id": "85b449b6-b64c-46e3-a22e-f58c2d2f939f",
   "metadata": {},
   "source": [
    "##### Adds the \"Preferred Results\" Output Variable"
   ]
  },
  {
   "cell_type": "code",
   "execution_count": 10,
   "id": "af189126-6848-4de0-9cb7-f1386c51f705",
   "metadata": {},
   "outputs": [],
   "source": [
    "df.loc[df.index, \"preferred_results\"] = 0\n",
    "df.loc[df[\"description\"] == \"called_strike\", \"preferred_results\"] = 1\n",
    "df.loc[df[\"description\"] == \"swinging_strike\", \"preferred_results\"] = 1\n",
    "df.loc[df[\"description\"] == \"swinging_strike_blocked\", \"preferred_results\"] = 1\n",
    "df.loc[(df[\"description\"] == \"hit_into_play\") & (df[\"launch_speed\"] < 80), \"preferred_results\"] = 1\n",
    "# df"
   ]
  },
  {
   "cell_type": "markdown",
   "id": "c8a24e35-049b-4a39-9b01-499f124e13ab",
   "metadata": {},
   "source": [
    "##### One Hot Encodes Handedness and Pitch Type"
   ]
  },
  {
   "cell_type": "code",
   "execution_count": 11,
   "id": "f81eb61d-cc29-4671-ad18-4ba619de7b94",
   "metadata": {},
   "outputs": [],
   "source": [
    "df.loc[df[\"pitch_type\"] == \"SC\", \"pitch_type\"] = \"CH\"\n",
    "df = pd.get_dummies(df, columns=['pitch_type', 'p_throws'], drop_first=True)\n",
    "# df"
   ]
  },
  {
   "cell_type": "markdown",
   "id": "fa29c37d-538c-44db-abb4-9a551b2f5eb7",
   "metadata": {},
   "source": [
    "### Drop Uneeded Columns"
   ]
  },
  {
   "cell_type": "code",
   "execution_count": 12,
   "id": "66f98da4-8e68-4941-94d7-02f987534b2d",
   "metadata": {},
   "outputs": [],
   "source": [
    "df = df.drop([\"launch_speed\", \"description\"], axis=1)\n",
    "df = df.fillna(-1)\n",
    "# df"
   ]
  },
  {
   "cell_type": "markdown",
   "id": "a2b91844-cb15-40fc-a043-086971e25a8f",
   "metadata": {},
   "source": [
    "### Store the DataFrame in a Feather File"
   ]
  },
  {
   "cell_type": "code",
   "execution_count": 13,
   "id": "280420a2-51cd-418d-8898-ed8c71d009e0",
   "metadata": {},
   "outputs": [],
   "source": [
    "df.to_feather(\"cleaned_data.feather\")"
   ]
  }
 ],
 "metadata": {
  "kernelspec": {
   "display_name": "Python 3 (ipykernel)",
   "language": "python",
   "name": "python3"
  },
  "language_info": {
   "codemirror_mode": {
    "name": "ipython",
    "version": 3
   },
   "file_extension": ".py",
   "mimetype": "text/x-python",
   "name": "python",
   "nbconvert_exporter": "python",
   "pygments_lexer": "ipython3",
   "version": "3.9.7"
  }
 },
 "nbformat": 4,
 "nbformat_minor": 5
}
